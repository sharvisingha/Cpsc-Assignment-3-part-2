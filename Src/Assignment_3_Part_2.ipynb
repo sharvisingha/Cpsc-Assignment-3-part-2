{
 "cells": [
  {
   "cell_type": "markdown",
   "metadata": {},
   "source": [
    "## Exercise 2"
   ]
  },
  {
   "cell_type": "markdown",
   "metadata": {},
   "source": [
    "For this exercise , you will be working with the [Titanic Data Set from Kaggle](https://www.kaggle.com/c/titanic). This is a very famous data set and very often is a student's first step in Data Analytics! \n",
    "\n",
    "The Dataset has been given to you on D2L. You need to download the .csv file from your assignment folder. The above link is just for a reference story about the data. "
   ]
  },
  {
   "cell_type": "markdown",
   "metadata": {},
   "source": [
    "\n",
    "1- For this assignment, you need to perform explorotary data analysis and answer at least three hypotheses based on the dataset. You may need to use your knowledge of statiscts to analyze this data.\n",
    "\n",
    "Here are three possible hypotheses that you can define for this dataset (you can define your own hypotheses as well):\n",
    "\n",
    "- Determine if the survival rate is associated to the class of passenger\n",
    "- Determine if the survival rate is associated to the gender\n",
    "- Determine the survival rate is associated to the age\n",
    "\n",
    "\n",
    "\n",
    "2- For each hypothesis, you need to make at least one plot. \n",
    "\n",
    "3- Write a summary of your findings in one page (e.g., summary statistics, plots) and submit the pdf file. Therefore, for part 2 of your assignment, you need to submit one jupyter notebook file and one pdf file.\n",
    "\n",
    "This will be your first end to end data analysis project. For this assignment, you will be graded on you overall analysis, and your final report.\n",
    "\n",
    "4- Push your code and project to github and provide the link to your code here.\n",
    "\n"
   ]
  },
  {
   "cell_type": "markdown",
   "metadata": {},
   "source": [
    "Ensure that your github project is organized to at least couple of main folders, ensure that you have the README file as well:\n",
    "\n",
    "- Src\n",
    "- Data\n",
    "- Docs\n",
    "- Results\n",
    "\n",
    "Read this link for further info:  https://gist.github.com/ericmjl/27e50331f24db3e8f957d1fe7bbbe510"
   ]
  },
  {
   "cell_type": "code",
   "execution_count": 1,
   "metadata": {},
   "outputs": [],
   "source": [
    "import pandas as pd\n",
    "import numpy as np"
   ]
  },
  {
   "cell_type": "code",
   "execution_count": 9,
   "metadata": {},
   "outputs": [],
   "source": [
    "# loading titatnic dataset\n",
    "titanic_data = pd.read_csv('titanic.csv')"
   ]
  },
  {
   "cell_type": "code",
   "execution_count": 10,
   "metadata": {},
   "outputs": [
    {
     "name": "stdout",
     "output_type": "stream",
     "text": [
      "<class 'pandas.core.frame.DataFrame'>\n",
      "RangeIndex: 891 entries, 0 to 890\n",
      "Data columns (total 12 columns):\n",
      " #   Column       Non-Null Count  Dtype  \n",
      "---  ------       --------------  -----  \n",
      " 0   PassengerId  891 non-null    int64  \n",
      " 1   Survived     891 non-null    int64  \n",
      " 2   Pclass       891 non-null    int64  \n",
      " 3   Name         891 non-null    object \n",
      " 4   Sex          891 non-null    object \n",
      " 5   Age          714 non-null    float64\n",
      " 6   SibSp        891 non-null    int64  \n",
      " 7   Parch        891 non-null    int64  \n",
      " 8   Ticket       891 non-null    object \n",
      " 9   Fare         891 non-null    float64\n",
      " 10  Cabin        204 non-null    object \n",
      " 11  Embarked     889 non-null    object \n",
      "dtypes: float64(2), int64(5), object(5)\n",
      "memory usage: 83.7+ KB\n"
     ]
    },
    {
     "data": {
      "text/html": [
       "<div>\n",
       "<style scoped>\n",
       "    .dataframe tbody tr th:only-of-type {\n",
       "        vertical-align: middle;\n",
       "    }\n",
       "\n",
       "    .dataframe tbody tr th {\n",
       "        vertical-align: top;\n",
       "    }\n",
       "\n",
       "    .dataframe thead th {\n",
       "        text-align: right;\n",
       "    }\n",
       "</style>\n",
       "<table border=\"1\" class=\"dataframe\">\n",
       "  <thead>\n",
       "    <tr style=\"text-align: right;\">\n",
       "      <th></th>\n",
       "      <th>PassengerId</th>\n",
       "      <th>Survived</th>\n",
       "      <th>Pclass</th>\n",
       "      <th>Name</th>\n",
       "      <th>Sex</th>\n",
       "      <th>Age</th>\n",
       "      <th>SibSp</th>\n",
       "      <th>Parch</th>\n",
       "      <th>Ticket</th>\n",
       "      <th>Fare</th>\n",
       "      <th>Cabin</th>\n",
       "      <th>Embarked</th>\n",
       "    </tr>\n",
       "  </thead>\n",
       "  <tbody>\n",
       "    <tr>\n",
       "      <th>0</th>\n",
       "      <td>1</td>\n",
       "      <td>0</td>\n",
       "      <td>3</td>\n",
       "      <td>Braund, Mr. Owen Harris</td>\n",
       "      <td>male</td>\n",
       "      <td>22.0</td>\n",
       "      <td>1</td>\n",
       "      <td>0</td>\n",
       "      <td>A/5 21171</td>\n",
       "      <td>7.2500</td>\n",
       "      <td>NaN</td>\n",
       "      <td>S</td>\n",
       "    </tr>\n",
       "    <tr>\n",
       "      <th>1</th>\n",
       "      <td>2</td>\n",
       "      <td>1</td>\n",
       "      <td>1</td>\n",
       "      <td>Cumings, Mrs. John Bradley (Florence Briggs Th...</td>\n",
       "      <td>female</td>\n",
       "      <td>38.0</td>\n",
       "      <td>1</td>\n",
       "      <td>0</td>\n",
       "      <td>PC 17599</td>\n",
       "      <td>71.2833</td>\n",
       "      <td>C85</td>\n",
       "      <td>C</td>\n",
       "    </tr>\n",
       "    <tr>\n",
       "      <th>2</th>\n",
       "      <td>3</td>\n",
       "      <td>1</td>\n",
       "      <td>3</td>\n",
       "      <td>Heikkinen, Miss. Laina</td>\n",
       "      <td>female</td>\n",
       "      <td>26.0</td>\n",
       "      <td>0</td>\n",
       "      <td>0</td>\n",
       "      <td>STON/O2. 3101282</td>\n",
       "      <td>7.9250</td>\n",
       "      <td>NaN</td>\n",
       "      <td>S</td>\n",
       "    </tr>\n",
       "    <tr>\n",
       "      <th>3</th>\n",
       "      <td>4</td>\n",
       "      <td>1</td>\n",
       "      <td>1</td>\n",
       "      <td>Futrelle, Mrs. Jacques Heath (Lily May Peel)</td>\n",
       "      <td>female</td>\n",
       "      <td>35.0</td>\n",
       "      <td>1</td>\n",
       "      <td>0</td>\n",
       "      <td>113803</td>\n",
       "      <td>53.1000</td>\n",
       "      <td>C123</td>\n",
       "      <td>S</td>\n",
       "    </tr>\n",
       "    <tr>\n",
       "      <th>4</th>\n",
       "      <td>5</td>\n",
       "      <td>0</td>\n",
       "      <td>3</td>\n",
       "      <td>Allen, Mr. William Henry</td>\n",
       "      <td>male</td>\n",
       "      <td>35.0</td>\n",
       "      <td>0</td>\n",
       "      <td>0</td>\n",
       "      <td>373450</td>\n",
       "      <td>8.0500</td>\n",
       "      <td>NaN</td>\n",
       "      <td>S</td>\n",
       "    </tr>\n",
       "    <tr>\n",
       "      <th>...</th>\n",
       "      <td>...</td>\n",
       "      <td>...</td>\n",
       "      <td>...</td>\n",
       "      <td>...</td>\n",
       "      <td>...</td>\n",
       "      <td>...</td>\n",
       "      <td>...</td>\n",
       "      <td>...</td>\n",
       "      <td>...</td>\n",
       "      <td>...</td>\n",
       "      <td>...</td>\n",
       "      <td>...</td>\n",
       "    </tr>\n",
       "    <tr>\n",
       "      <th>886</th>\n",
       "      <td>887</td>\n",
       "      <td>0</td>\n",
       "      <td>2</td>\n",
       "      <td>Montvila, Rev. Juozas</td>\n",
       "      <td>male</td>\n",
       "      <td>27.0</td>\n",
       "      <td>0</td>\n",
       "      <td>0</td>\n",
       "      <td>211536</td>\n",
       "      <td>13.0000</td>\n",
       "      <td>NaN</td>\n",
       "      <td>S</td>\n",
       "    </tr>\n",
       "    <tr>\n",
       "      <th>887</th>\n",
       "      <td>888</td>\n",
       "      <td>1</td>\n",
       "      <td>1</td>\n",
       "      <td>Graham, Miss. Margaret Edith</td>\n",
       "      <td>female</td>\n",
       "      <td>19.0</td>\n",
       "      <td>0</td>\n",
       "      <td>0</td>\n",
       "      <td>112053</td>\n",
       "      <td>30.0000</td>\n",
       "      <td>B42</td>\n",
       "      <td>S</td>\n",
       "    </tr>\n",
       "    <tr>\n",
       "      <th>888</th>\n",
       "      <td>889</td>\n",
       "      <td>0</td>\n",
       "      <td>3</td>\n",
       "      <td>Johnston, Miss. Catherine Helen \"Carrie\"</td>\n",
       "      <td>female</td>\n",
       "      <td>NaN</td>\n",
       "      <td>1</td>\n",
       "      <td>2</td>\n",
       "      <td>W./C. 6607</td>\n",
       "      <td>23.4500</td>\n",
       "      <td>NaN</td>\n",
       "      <td>S</td>\n",
       "    </tr>\n",
       "    <tr>\n",
       "      <th>889</th>\n",
       "      <td>890</td>\n",
       "      <td>1</td>\n",
       "      <td>1</td>\n",
       "      <td>Behr, Mr. Karl Howell</td>\n",
       "      <td>male</td>\n",
       "      <td>26.0</td>\n",
       "      <td>0</td>\n",
       "      <td>0</td>\n",
       "      <td>111369</td>\n",
       "      <td>30.0000</td>\n",
       "      <td>C148</td>\n",
       "      <td>C</td>\n",
       "    </tr>\n",
       "    <tr>\n",
       "      <th>890</th>\n",
       "      <td>891</td>\n",
       "      <td>0</td>\n",
       "      <td>3</td>\n",
       "      <td>Dooley, Mr. Patrick</td>\n",
       "      <td>male</td>\n",
       "      <td>32.0</td>\n",
       "      <td>0</td>\n",
       "      <td>0</td>\n",
       "      <td>370376</td>\n",
       "      <td>7.7500</td>\n",
       "      <td>NaN</td>\n",
       "      <td>Q</td>\n",
       "    </tr>\n",
       "  </tbody>\n",
       "</table>\n",
       "<p>891 rows × 12 columns</p>\n",
       "</div>"
      ],
      "text/plain": [
       "     PassengerId  Survived  Pclass  \\\n",
       "0              1         0       3   \n",
       "1              2         1       1   \n",
       "2              3         1       3   \n",
       "3              4         1       1   \n",
       "4              5         0       3   \n",
       "..           ...       ...     ...   \n",
       "886          887         0       2   \n",
       "887          888         1       1   \n",
       "888          889         0       3   \n",
       "889          890         1       1   \n",
       "890          891         0       3   \n",
       "\n",
       "                                                  Name     Sex   Age  SibSp  \\\n",
       "0                              Braund, Mr. Owen Harris    male  22.0      1   \n",
       "1    Cumings, Mrs. John Bradley (Florence Briggs Th...  female  38.0      1   \n",
       "2                               Heikkinen, Miss. Laina  female  26.0      0   \n",
       "3         Futrelle, Mrs. Jacques Heath (Lily May Peel)  female  35.0      1   \n",
       "4                             Allen, Mr. William Henry    male  35.0      0   \n",
       "..                                                 ...     ...   ...    ...   \n",
       "886                              Montvila, Rev. Juozas    male  27.0      0   \n",
       "887                       Graham, Miss. Margaret Edith  female  19.0      0   \n",
       "888           Johnston, Miss. Catherine Helen \"Carrie\"  female   NaN      1   \n",
       "889                              Behr, Mr. Karl Howell    male  26.0      0   \n",
       "890                                Dooley, Mr. Patrick    male  32.0      0   \n",
       "\n",
       "     Parch            Ticket     Fare Cabin Embarked  \n",
       "0        0         A/5 21171   7.2500   NaN        S  \n",
       "1        0          PC 17599  71.2833   C85        C  \n",
       "2        0  STON/O2. 3101282   7.9250   NaN        S  \n",
       "3        0            113803  53.1000  C123        S  \n",
       "4        0            373450   8.0500   NaN        S  \n",
       "..     ...               ...      ...   ...      ...  \n",
       "886      0            211536  13.0000   NaN        S  \n",
       "887      0            112053  30.0000   B42        S  \n",
       "888      2        W./C. 6607  23.4500   NaN        S  \n",
       "889      0            111369  30.0000  C148        C  \n",
       "890      0            370376   7.7500   NaN        Q  \n",
       "\n",
       "[891 rows x 12 columns]"
      ]
     },
     "execution_count": 10,
     "metadata": {},
     "output_type": "execute_result"
    }
   ],
   "source": [
    "titanic_data.info()\n",
    "titanic_data"
   ]
  },
  {
   "cell_type": "markdown",
   "metadata": {},
   "source": [
    " 1. Determine if the survival rate is associated to the class of passenger\n",
    " 2. Determine if the survival rate is associated to the gender\n",
    " 3. Determine the survival rate is associated to the age"
   ]
  },
  {
   "cell_type": "code",
   "execution_count": 11,
   "metadata": {},
   "outputs": [
    {
     "name": "stdout",
     "output_type": "stream",
     "text": [
      "<class 'pandas.core.frame.DataFrame'>\n",
      "RangeIndex: 891 entries, 0 to 890\n",
      "Data columns (total 12 columns):\n",
      " #   Column       Non-Null Count  Dtype  \n",
      "---  ------       --------------  -----  \n",
      " 0   PassengerId  891 non-null    int64  \n",
      " 1   Survived     891 non-null    int64  \n",
      " 2   Pclass       891 non-null    int64  \n",
      " 3   Name         891 non-null    object \n",
      " 4   Sex          891 non-null    object \n",
      " 5   Age          714 non-null    float64\n",
      " 6   SibSp        891 non-null    int64  \n",
      " 7   Parch        891 non-null    int64  \n",
      " 8   Ticket       891 non-null    object \n",
      " 9   Fare         891 non-null    float64\n",
      " 10  Cabin        204 non-null    object \n",
      " 11  Embarked     889 non-null    object \n",
      "dtypes: float64(2), int64(5), object(5)\n",
      "memory usage: 83.7+ KB\n"
     ]
    }
   ],
   "source": [
    "titanic_data.info()"
   ]
  },
  {
   "cell_type": "markdown",
   "metadata": {},
   "source": [
    " 1. Determine if the survival rate is associated to the class of passenger\n",
    " H0= Survival rate and class of passengers are independent to each other among all subjects in the population\n",
    " Ha= Survival rates and class of passengers are not independent to each other among all subjects in the population"
   ]
  },
  {
   "cell_type": "markdown",
   "metadata": {},
   "source": [
    "#Variable\tDefinition\tKey\n",
    "survival\tSurvival\t0 = No, 1 = Yes\n",
    "pclass\tTicket class\t1 = 1st, 2 = 2nd, 3 = 3rd"
   ]
  },
  {
   "cell_type": "code",
   "execution_count": 13,
   "metadata": {},
   "outputs": [
    {
     "data": {
      "image/png": "[encoded data removed]",
      "text/plain": [
       "<Figure size 640x480 with 1 Axes>"
      ]
     },
     "metadata": {},
     "output_type": "display_data"
    }
   ],
   "source": [
    "import pandas as pd\n",
    "import matplotlib.pyplot as plt\n",
    "\n",
    "# Load the Titanic dataset\n",
    "titanic_data = pd.read_csv('titanic.csv')\n",
    "\n",
    "# Create a contingency table of survival rate by passenger class\n",
    "contingency_table = pd.crosstab(titanic_data['Survived'], titanic_data['Pclass'])\n",
    "\n",
    "# Calculate the survival rates\n",
    "survival_rates = contingency_table.apply(lambda x: x/x.sum(), axis=0)\n",
    "\n",
    "# Create a bar graph\n",
    "fig, ax = plt.subplots()\n",
    "survival_rates.plot(kind='bar', ax=ax)\n",
    "\n",
    "# Set the title and labels\n",
    "ax.set_title('Survival Rates by Passenger Class')\n",
    "ax.set_xlabel('Passenger Class')\n",
    "ax.set_ylabel('Survival Rate')\n",
    "ax.set_xticklabels(['No', 'Yes'])\n",
    "\n",
    "# Show the graph\n",
    "plt.show()"
   ]
  },
  {
   "cell_type": "code",
   "execution_count": 14,
   "metadata": {},
   "outputs": [
    {
     "name": "stdout",
     "output_type": "stream",
     "text": [
      "Chi-squared statistic: 102.88898875696056\n",
      "P-value: 4.549251711298793e-23\n",
      "Degrees of freedom: 2\n",
      "Expected counts:\n",
      "[[133.09090909 113.37373737 302.53535354]\n",
      " [ 82.90909091  70.62626263 188.46464646]]\n"
     ]
    }
   ],
   "source": [
    "import pandas as pd\n",
    "from scipy.stats import chi2_contingency\n",
    "\n",
    "# Load the Titanic dataset\n",
    "titanic_data = pd.read_csv('titanic.csv')\n",
    "\n",
    "# Create a contingency table of survival rate by passenger class\n",
    "contingency_table = pd.crosstab(titanic_data['Survived'], titanic_data['Pclass'])\n",
    "\n",
    "# Run the chi-squared test\n",
    "chi2, p_value, dof, expected = chi2_contingency(contingency_table)\n",
    "\n",
    "# Print the results\n",
    "print(f\"Chi-squared statistic: {chi2}\")\n",
    "print(f\"P-value: {p_value}\")\n",
    "print(f\"Degrees of freedom: {dof}\")\n",
    "print(f\"Expected counts:\\n{expected}\")"
   ]
  },
  {
   "cell_type": "markdown",
   "metadata": {},
   "source": [
    "The function provides various values including the chi-squared statistic, p-value, degrees of freedom, and expected frequencies under the null hypothesis. The results are then printed out. If the p-value is below 0.05, the null hypothesis can be rejected, and it can be concluded that there is a significant relationship between survival rate and passenger class. In this case, the chi-squared value is large at 102.89, suggesting a significant difference between the expected and observed counts, and supporting the presence of a statistically significant association between survival rate and passenger class.\n",
    "\n",
    "The p-value is extremely small at 4.55e-23, much less than the usual significance level of 0.05, which strongly contradicts the null hypothesis of independence. This implies that the probability of getting such a high chi-squared value or even greater by chance alone is very low. Thus, the null hypothesis can be rejected, and it can be concluded that there is a significant association between survival rate and passenger class."
   ]
  },
  {
   "cell_type": "markdown",
   "metadata": {},
   "source": [
    "# 2. Determine if the survival rate is associated to the gender"
   ]
  },
  {
   "cell_type": "code",
   "execution_count": 16,
   "metadata": {},
   "outputs": [
    {
     "data": {
      "image/png": "[encoded data removed]",
      "text/plain": [
       "<Figure size 640x480 with 1 Axes>"
      ]
     },
     "metadata": {},
     "output_type": "display_data"
    }
   ],
   "source": [
    "import pandas as pd\n",
    "import matplotlib.pyplot as plt\n",
    "\n",
    "# Load the Titanic dataset\n",
    "titanic_data = pd.read_csv('titanic.csv')\n",
    "\n",
    "# Create a contingency table of survival rate by passenger class\n",
    "contingency_table = pd.crosstab(titanic_data['Survived'], titanic_data['Sex'])\n",
    "\n",
    "# Calculate the survival rates\n",
    "survival_rates = contingency_table.apply(lambda x: x/x.sum(), axis=0)\n",
    "\n",
    "# Create a bar graph\n",
    "fig, ax = plt.subplots()\n",
    "survival_rates.plot(kind='bar', ax=ax)\n",
    "\n",
    "# Set the title and labels\n",
    "ax.set_title('Survival Rates by Sex')\n",
    "ax.set_xlabel('Sex')\n",
    "ax.set_ylabel('Survival Rate')\n",
    "ax.set_xticklabels(['No', 'Yes'])\n",
    "\n",
    "# Show the graph\n",
    "plt.show()"
   ]
  },
  {
   "cell_type": "code",
   "execution_count": 1,
   "metadata": {
    "scrolled": true
   },
   "outputs": [
    {
     "ename": "IndentationError",
     "evalue": "unexpected indent (2762359726.py, line 2)",
     "output_type": "error",
     "traceback": [
      "\u001b[1;36m  File \u001b[1;32m\"C:\\Users\\simpl\\AppData\\Local\\Temp\\ipykernel_25260\\2762359726.py\"\u001b[1;36m, line \u001b[1;32m2\u001b[0m\n\u001b[1;33m    matplotlib.axes._subplots.AxesSubplot at0x21892a60c88\u001b[0m\n\u001b[1;37m    ^\u001b[0m\n\u001b[1;31mIndentationError\u001b[0m\u001b[1;31m:\u001b[0m unexpected indent\n"
     ]
    }
   ],
   "source": [
    "gender_table.plot(kind=\"bar\" , stacked=True)\n",
    "matplotlib.axes._subplots.AxesSubplot at0x21892a60c88"
   ]
  },
  {
   "cell_type": "markdown",
   "metadata": {},
   "source": [
    "# H0= Survival rate and Sex of passengers are independent to each other among all subjects in the population\n",
    "# Ha= Survival rates and Sex of passengers are not independent to each other among all subjects in the population"
   ]
  },
  {
   "cell_type": "code",
   "execution_count": 19,
   "metadata": {},
   "outputs": [
    {
     "name": "stdout",
     "output_type": "stream",
     "text": [
      "Chi-squared statistic: 260.71702016732104\n",
      "P-value: 1.1973570627755645e-58\n",
      "Degrees of freedom: 1\n",
      "Expected counts:\n",
      "[[193.47474747 355.52525253]\n",
      " [120.52525253 221.47474747]]\n"
     ]
    }
   ],
   "source": [
    "import pandas as pd\n",
    "from scipy.stats import chi2_contingency\n",
    "\n",
    "# Load the Titanic dataset\n",
    "titanic_data = pd.read_csv('titanic.csv')\n",
    "\n",
    "# Create a contingency table of survival rate by passenger class\n",
    "contingency_table = pd.crosstab(titanic_data['Survived'], titanic_data['Sex'])\n",
    "\n",
    "# Run the chi-squared test\n",
    "chi2, p_value, dof, expected = chi2_contingency(contingency_table)\n",
    "\n",
    "# Print the results\n",
    "print(f\"Chi-squared statistic: {chi2}\")\n",
    "print(f\"P-value: {p_value}\")\n",
    "print(f\"Degrees of freedom: {dof}\")\n",
    "print(f\"Expected counts:\\n{expected}\")"
   ]
  },
  {
   "cell_type": "markdown",
   "metadata": {},
   "source": [
    "The chi-squared statistic is used to determine the difference between the observed and expected counts in a contingency table, and in this case, it is 260.72. Such a large value indicates a strong association between the variables being studied.\n",
    "\n",
    "A small p-value of 1.20e-58 shows that the null hypothesis of independence is strongly contradicted. This means that the chances of obtaining such a high chi-squared value or an even greater one by chance are very low, leading to the rejection of the null hypothesis and concluding that a significant association exists between the two variables.\n",
    "\n",
    "The degrees of freedom are 1, which is calculated by subtracting 1 from the number of rows multiplied by the number of columns, in this case, 2 rows and 2 columns.\n",
    "\n",
    "The expected counts table shows the expected frequency counts under the null hypothesis of independence, which is calculated using the row and column totals of the contingency table. The observed counts are significantly different from the expected counts, providing further evidence against the null hypothesis.\n",
    "\n",
    "Overall, these results strongly suggest a significant association between the variables in the contingency table that is unlikely to be due to chance."
   ]
  },
  {
   "cell_type": "markdown",
   "metadata": {},
   "source": [
    "# 3. Determine the survival rate is associated to the age"
   ]
  },
  {
   "cell_type": "markdown",
   "metadata": {},
   "source": [
    "To investigate whether age and survival rate are correlated, we can employ a chi-squared test of independence by creating a contingency table that cross-tabulates age groups with survival status. To achieve this, the first step is to generate age groups by classifying age variable into four groups: children (age < 18), young adults (18 <= age < 35), middle-aged adults (35 <= age < 50), and older adults (age >= 50).\n",
    "\n",
    "Next, create a contingency table with two rows representing survived and not survived, and four columns indicating each age group. Tabulate the count of passengers in each group who survived and who did not survive, and fill in the corresponding cells of the table.\n",
    "\n",
    "To test the null hypothesis that survival status and age group are independent, and the alternative hypothesis that they are dependent, perform a chi-squared test of independence. Calculate the chi-squared statistic, the degrees of freedom, and the p-value. Reject the null hypothesis and conclude that there is a significant association between survival status and age group if the p-value is less than a pre-selected significance level (e.g. 0.05).\n",
    "\n",
    "In case of a significant association, we can investigate the nature of the association further by calculating measures of association such as Cramer's V or odds ratios. Such measures can indicate the strength and direction of the correlation between the two variables.\n"
   ]
  },
  {
   "cell_type": "code",
   "execution_count": 20,
   "metadata": {},
   "outputs": [
    {
     "data": {
      "image/png": "[encoded data removed]",
      "text/plain": [
       "<Figure size 640x480 with 1 Axes>"
      ]
     },
     "metadata": {},
     "output_type": "display_data"
    },
    {
     "data": {
      "image/png": "[encoded data removed]",
      "text/plain": [
       "<Figure size 1000x500 with 2 Axes>"
      ]
     },
     "metadata": {},
     "output_type": "display_data"
    }
   ],
   "source": [
    "import matplotlib.pyplot as plt\n",
    "import seaborn as sns\n",
    "import pandas as pd\n",
    "\n",
    "# Load the Titanic dataset\n",
    "titanic = sns.load_dataset('titanic')\n",
    "\n",
    "# Create a histogram of age for all passengers\n",
    "plt.hist(titanic['age'], bins=20)\n",
    "\n",
    "# Add labels and title to the plot\n",
    "plt.xlabel('Age')\n",
    "plt.ylabel('Number of Passengers')\n",
    "plt.title('Histogram of Age for All Passengers')\n",
    "plt.show()\n",
    "\n",
    "# Create two separate data frames for passengers who survived and those who didn't\n",
    "survived = titanic[titanic['survived'] == 1]\n",
    "not_survived = titanic[titanic['survived'] == 0]\n",
    "\n",
    "# Create two histograms, one for each group\n",
    "fig, (ax1, ax2) = plt.subplots(ncols=2, figsize=(10,5))\n",
    "\n",
    "ax1.hist(survived['age'], bins=20, color='green', alpha=0.5)\n",
    "ax1.set_xlabel('Age')\n",
    "ax1.set_ylabel('Number of Passengers')\n",
    "ax1.set_title('Survivors by Age')\n",
    "\n",
    "ax2.hist(not_survived['age'], bins=20, color='red', alpha=0.5)\n",
    "ax2.set_xlabel('Age')\n",
    "ax2.set_ylabel('Number of Passengers')\n",
    "ax2.set_title('Non-Survivors by Age')\n",
    "\n",
    "plt.show()\n"
   ]
  },
  {
   "cell_type": "code",
   "execution_count": 21,
   "metadata": {},
   "outputs": [
    {
     "data": {
      "image/png": "[encoded data removed]",
      "text/plain": [
       "<Figure size 640x480 with 1 Axes>"
      ]
     },
     "metadata": {},
     "output_type": "display_data"
    }
   ],
   "source": [
    "import matplotlib.pyplot as plt\n",
    "import numpy as np\n",
    "\n",
    "# Data\n",
    "age_groups = ['Child', 'Adult']\n",
    "survival_rate = [0.59, 0.38]\n",
    "not_survived = [0.41, 0.62]\n",
    "\n",
    "# Set up bar positions and widths\n",
    "bar_width = 0.35\n",
    "r1 = np.arange(len(age_groups))\n",
    "r2 = [x + bar_width for x in r1]\n",
    "\n",
    "# Create plot\n",
    "fig, ax = plt.subplots()\n",
    "rects1 = ax.bar(r1, survival_rate, color='b', width=bar_width, edgecolor='white', label='Survived')\n",
    "rects2 = ax.bar(r2, not_survived, color='r', width=bar_width, edgecolor='white', label='Not Survived')\n",
    "\n",
    "# Add labels, title and legend\n",
    "ax.set_ylabel('Percentage')\n",
    "ax.set_title('Survival rate by age group')\n",
    "ax.set_xticks([r + bar_width/2 for r in range(len(age_groups))])\n",
    "ax.set_xticklabels(age_groups)\n",
    "ax.legend()\n",
    "\n",
    "# Display plot\n",
    "plt.show()"
   ]
  },
  {
   "cell_type": "code",
   "execution_count": 22,
   "metadata": {},
   "outputs": [
    {
     "name": "stdout",
     "output_type": "stream",
     "text": [
      "Chi-squared statistic: 7.35845688661176\n",
      "P-value: 0.061309035112460046\n",
      "Degrees of freedom: 3\n",
      "Expected counts:\n",
      " [[ 82.54341737 212.59383754  90.85714286  38.00560224]\n",
      " [ 56.45658263 145.40616246  62.14285714  25.99439776]]\n"
     ]
    }
   ],
   "source": [
    "import pandas as pd\n",
    "from scipy.stats import chi2_contingency\n",
    "\n",
    "# Load Titanic dataset\n",
    "df = pd.read_csv('titanic.csv')\n",
    "\n",
    "# Create age groups\n",
    "age_groups = pd.cut(df['Age'], bins=[0, 18, 35, 50, 100],\n",
    "                    labels=['Children', 'Young Adults', 'Middle-aged Adults', 'Older Adults'])\n",
    "\n",
    "# Create contingency table\n",
    "contingency_table = pd.crosstab(df['Survived'], age_groups)\n",
    "\n",
    "# Perform chi-squared test of independence\n",
    "chi2, p, dof, expected = chi2_contingency(contingency_table)\n",
    "\n",
    "# Print results\n",
    "print('Chi-squared statistic:', chi2)\n",
    "print('P-value:', p)\n",
    "print('Degrees of freedom:', dof)\n",
    "print('Expected counts:\\n', expected)"
   ]
  },
  {
   "cell_type": "markdown",
   "metadata": {},
   "source": [
    "# H0= Survival rate and age of passengers are independent to each other among all subjects in the population\n",
    "# Ha= Survival rates and age of passengers are not independent to each other among all subjects in the populatio"
   ]
  },
  {
   "cell_type": "markdown",
   "metadata": {},
   "source": [
    "The chi-squared test was conducted to determine if there is an association between survival rate and age. \n",
    "The null hypothesis (H0) is that survival rate and age are independent of each other, while the alternative hypothesis (Ha) is that they are dependent on each other.\n",
    "The chi-squared statistic for this test is 7.35845688661176 with 3 degrees of freedom, and the p-value is 0.061309035112460046. \n",
    "Since the p-value is greater than the standard significance level of 0.05, we fail to reject the null hypothesis. Therefore, there is insufficient evidence to conclude that there is an association between survival rate and age among all subjects in the population."
   ]
  }
 ],
 "metadata": {
  "anaconda-cloud": {},
  "kernelspec": {
   "display_name": "Python 3 (ipykernel)",
   "language": "python",
   "name": "python3"
  },
  "language_info": {
   "codemirror_mode": {
    "name": "ipython",
    "version": 3
   },
   "file_extension": ".py",
   "mimetype": "text/x-python",
   "name": "python",
   "nbconvert_exporter": "python",
   "pygments_lexer": "ipython3",
   "version": "3.9.13"
  }
 },
 "nbformat": 4,
 "nbformat_minor": 1
}
